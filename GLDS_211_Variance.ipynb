{
  "nbformat": 4,
  "nbformat_minor": 0,
  "metadata": {
    "colab": {
      "name": "GLDS-211 Variance.ipynb",
      "provenance": [],
      "toc_visible": true,
      "include_colab_link": true
    },
    "kernelspec": {
      "name": "python3",
      "display_name": "Python 3"
    },
    "language_info": {
      "name": "python"
    }
  },
  "cells": [
    {
      "cell_type": "markdown",
      "metadata": {
        "id": "view-in-github",
        "colab_type": "text"
      },
      "source": [
        "<a href=\"https://colab.research.google.com/github/jgalazka/GLDS-211_Paul_2021/blob/main/GLDS_211_Variance.ipynb\" target=\"_parent\"><img src=\"https://colab.research.google.com/assets/colab-badge.svg\" alt=\"Open In Colab\"/></a>"
      ]
    },
    {
      "cell_type": "markdown",
      "metadata": {
        "id": "4TBNOQ1k_c_A"
      },
      "source": [
        "# Norm counts download and set-up"
      ]
    },
    {
      "cell_type": "code",
      "metadata": {
        "id": "jufmUQtgMsKh"
      },
      "source": [
        "import pandas as pd\n",
        "import numpy as np\n",
        "import scipy.stats"
      ],
      "execution_count": 1,
      "outputs": []
    },
    {
      "cell_type": "code",
      "metadata": {
        "id": "t28FueW5uwON"
      },
      "source": [
        "!wget https://genelab-data.ndc.nasa.gov/genelab/static/media/dataset/GLDS-211_rna_seq_Normalized_Counts.csv?version=1"
      ],
      "execution_count": null,
      "outputs": []
    },
    {
      "cell_type": "code",
      "metadata": {
        "id": "mjRGlzsavRGB"
      },
      "source": [
        "normcounts = pd.read_csv('GLDS-211_rna_seq_Normalized_Counts.csv?version=1', index_col=0)"
      ],
      "execution_count": 3,
      "outputs": []
    },
    {
      "cell_type": "code",
      "metadata": {
        "colab": {
          "base_uri": "https://localhost:8080/",
          "height": 241
        },
        "id": "T4tQXE1Uvyy-",
        "outputId": "c09896f9-bcc1-434b-cd61-64e3caafdce8"
      },
      "source": [
        "normcounts = normcounts + 1\n",
        "normcounts.head()"
      ],
      "execution_count": 4,
      "outputs": [
        {
          "output_type": "execute_result",
          "data": {
            "text/html": [
              "<div>\n",
              "<style scoped>\n",
              "    .dataframe tbody tr th:only-of-type {\n",
              "        vertical-align: middle;\n",
              "    }\n",
              "\n",
              "    .dataframe tbody tr th {\n",
              "        vertical-align: top;\n",
              "    }\n",
              "\n",
              "    .dataframe thead th {\n",
              "        text-align: right;\n",
              "    }\n",
              "</style>\n",
              "<table border=\"1\" class=\"dataframe\">\n",
              "  <thead>\n",
              "    <tr style=\"text-align: right;\">\n",
              "      <th></th>\n",
              "      <th>Mmus_C57-6J_SPL_HLLC_IRC_Rep1_M18</th>\n",
              "      <th>Mmus_C57-6J_SPL_HLLC_IRC_Rep2_M21</th>\n",
              "      <th>Mmus_C57-6J_SPL_HLLC_IRC_Rep3_M22</th>\n",
              "      <th>Mmus_C57-6J_SPL_HLLC_IRC_Rep4_M25</th>\n",
              "      <th>Mmus_C57-6J_SPL_HLLC_IRC_Rep5_M2</th>\n",
              "      <th>Mmus_C57-6J_SPL_HLLC_IRC_Rep6_M12</th>\n",
              "      <th>Mmus_C57-6J_SPL_HLLC_IR_Rep1_M7</th>\n",
              "      <th>Mmus_C57-6J_SPL_HLLC_IR_Rep2_M13</th>\n",
              "      <th>Mmus_C57-6J_SPL_HLLC_IR_Rep3_M14</th>\n",
              "      <th>Mmus_C57-6J_SPL_HLLC_IR_Rep4_M23</th>\n",
              "      <th>Mmus_C57-6J_SPL_HLLC_IR_Rep5_M24</th>\n",
              "      <th>Mmus_C57-6J_SPL_HLLC_IR_Rep6_M1</th>\n",
              "      <th>Mmus_C57-6J_SPL_HLU_IRC_Rep1_M8</th>\n",
              "      <th>Mmus_C57-6J_SPL_HLU_IRC_Rep2_M10</th>\n",
              "      <th>Mmus_C57-6J_SPL_HLU_IRC_Rep3_M16</th>\n",
              "      <th>Mmus_C57-6J_SPL_HLU_IR_Rep1_M3</th>\n",
              "      <th>Mmus_C57-6J_SPL_HLU_IR_Rep2_M9</th>\n",
              "      <th>Mmus_C57-6J_SPL_HLU_IR_Rep3_M11</th>\n",
              "      <th>Mmus_C57-6J_SPL_HLU_IR_Rep4_M15</th>\n",
              "      <th>Mmus_C57-6J_SPL_HLU_IR_Rep5_M17</th>\n",
              "      <th>Mmus_C57-6J_SPL_HLU_IR_Rep6_M19</th>\n",
              "    </tr>\n",
              "  </thead>\n",
              "  <tbody>\n",
              "    <tr>\n",
              "      <th>ENSMUSG00000000001</th>\n",
              "      <td>28.879981</td>\n",
              "      <td>16.814743</td>\n",
              "      <td>39.858924</td>\n",
              "      <td>12.634572</td>\n",
              "      <td>16.043993</td>\n",
              "      <td>6.690379</td>\n",
              "      <td>11.412821</td>\n",
              "      <td>7.353607</td>\n",
              "      <td>10.772976</td>\n",
              "      <td>18.596548</td>\n",
              "      <td>16.496299</td>\n",
              "      <td>11.071769</td>\n",
              "      <td>5.166160</td>\n",
              "      <td>5.256152</td>\n",
              "      <td>7.949144</td>\n",
              "      <td>18.666862</td>\n",
              "      <td>25.954025</td>\n",
              "      <td>12.560998</td>\n",
              "      <td>4.697073</td>\n",
              "      <td>9.296658</td>\n",
              "      <td>19.682667</td>\n",
              "    </tr>\n",
              "    <tr>\n",
              "      <th>ENSMUSG00000000028</th>\n",
              "      <td>3.587926</td>\n",
              "      <td>5.431593</td>\n",
              "      <td>3.618773</td>\n",
              "      <td>1.747940</td>\n",
              "      <td>1.000000</td>\n",
              "      <td>2.951743</td>\n",
              "      <td>1.614280</td>\n",
              "      <td>1.934205</td>\n",
              "      <td>1.673135</td>\n",
              "      <td>5.622579</td>\n",
              "      <td>1.637239</td>\n",
              "      <td>1.000000</td>\n",
              "      <td>1.000000</td>\n",
              "      <td>1.000000</td>\n",
              "      <td>3.042958</td>\n",
              "      <td>7.074873</td>\n",
              "      <td>8.312038</td>\n",
              "      <td>4.399425</td>\n",
              "      <td>2.018416</td>\n",
              "      <td>3.845577</td>\n",
              "      <td>12.314823</td>\n",
              "    </tr>\n",
              "    <tr>\n",
              "      <th>ENSMUSG00000000049</th>\n",
              "      <td>1.750916</td>\n",
              "      <td>1.000000</td>\n",
              "      <td>2.665037</td>\n",
              "      <td>2.111806</td>\n",
              "      <td>7.338369</td>\n",
              "      <td>1.000000</td>\n",
              "      <td>2.125574</td>\n",
              "      <td>1.000000</td>\n",
              "      <td>2.253321</td>\n",
              "      <td>1.000000</td>\n",
              "      <td>2.882720</td>\n",
              "      <td>7.587803</td>\n",
              "      <td>1.000000</td>\n",
              "      <td>1.000000</td>\n",
              "      <td>1.000000</td>\n",
              "      <td>1.000000</td>\n",
              "      <td>6.856172</td>\n",
              "      <td>1.000000</td>\n",
              "      <td>1.000000</td>\n",
              "      <td>2.415686</td>\n",
              "      <td>2.701406</td>\n",
              "    </tr>\n",
              "    <tr>\n",
              "      <th>ENSMUSG00000000056</th>\n",
              "      <td>30.773253</td>\n",
              "      <td>14.749782</td>\n",
              "      <td>26.074862</td>\n",
              "      <td>19.748522</td>\n",
              "      <td>38.167292</td>\n",
              "      <td>20.717767</td>\n",
              "      <td>23.100402</td>\n",
              "      <td>29.681410</td>\n",
              "      <td>22.672571</td>\n",
              "      <td>26.070415</td>\n",
              "      <td>13.890384</td>\n",
              "      <td>36.358614</td>\n",
              "      <td>47.267909</td>\n",
              "      <td>24.009018</td>\n",
              "      <td>37.342211</td>\n",
              "      <td>24.279079</td>\n",
              "      <td>24.739331</td>\n",
              "      <td>19.541183</td>\n",
              "      <td>12.274339</td>\n",
              "      <td>13.266269</td>\n",
              "      <td>23.844700</td>\n",
              "    </tr>\n",
              "    <tr>\n",
              "      <th>ENSMUSG00000000058</th>\n",
              "      <td>3.221871</td>\n",
              "      <td>1.450402</td>\n",
              "      <td>3.508514</td>\n",
              "      <td>3.222653</td>\n",
              "      <td>1.000000</td>\n",
              "      <td>1.000000</td>\n",
              "      <td>3.329488</td>\n",
              "      <td>1.000000</td>\n",
              "      <td>3.358675</td>\n",
              "      <td>1.000000</td>\n",
              "      <td>4.494680</td>\n",
              "      <td>1.000000</td>\n",
              "      <td>3.609737</td>\n",
              "      <td>1.000000</td>\n",
              "      <td>2.919412</td>\n",
              "      <td>1.000000</td>\n",
              "      <td>1.000000</td>\n",
              "      <td>1.517422</td>\n",
              "      <td>4.754962</td>\n",
              "      <td>1.577589</td>\n",
              "      <td>4.494364</td>\n",
              "    </tr>\n",
              "  </tbody>\n",
              "</table>\n",
              "</div>"
            ],
            "text/plain": [
              "                    Mmus_C57-6J_SPL_HLLC_IRC_Rep1_M18  ...  Mmus_C57-6J_SPL_HLU_IR_Rep6_M19\n",
              "ENSMUSG00000000001                          28.879981  ...                        19.682667\n",
              "ENSMUSG00000000028                           3.587926  ...                        12.314823\n",
              "ENSMUSG00000000049                           1.750916  ...                         2.701406\n",
              "ENSMUSG00000000056                          30.773253  ...                        23.844700\n",
              "ENSMUSG00000000058                           3.221871  ...                         4.494364\n",
              "\n",
              "[5 rows x 21 columns]"
            ]
          },
          "metadata": {
            "tags": []
          },
          "execution_count": 4
        }
      ]
    },
    {
      "cell_type": "code",
      "metadata": {
        "colab": {
          "base_uri": "https://localhost:8080/"
        },
        "id": "k1CG8nb8v9vP",
        "outputId": "d521c5e9-c132-48ea-9366-fa67ebef692f"
      },
      "source": [
        "n=0\n",
        "for column in normcounts.columns:\n",
        "  print(str(n), column)\n",
        "  n=n+1"
      ],
      "execution_count": 5,
      "outputs": [
        {
          "output_type": "stream",
          "text": [
            "0 Mmus_C57-6J_SPL_HLLC_IRC_Rep1_M18\n",
            "1 Mmus_C57-6J_SPL_HLLC_IRC_Rep2_M21\n",
            "2 Mmus_C57-6J_SPL_HLLC_IRC_Rep3_M22\n",
            "3 Mmus_C57-6J_SPL_HLLC_IRC_Rep4_M25\n",
            "4 Mmus_C57-6J_SPL_HLLC_IRC_Rep5_M2\n",
            "5 Mmus_C57-6J_SPL_HLLC_IRC_Rep6_M12\n",
            "6 Mmus_C57-6J_SPL_HLLC_IR_Rep1_M7\n",
            "7 Mmus_C57-6J_SPL_HLLC_IR_Rep2_M13\n",
            "8 Mmus_C57-6J_SPL_HLLC_IR_Rep3_M14\n",
            "9 Mmus_C57-6J_SPL_HLLC_IR_Rep4_M23\n",
            "10 Mmus_C57-6J_SPL_HLLC_IR_Rep5_M24\n",
            "11 Mmus_C57-6J_SPL_HLLC_IR_Rep6_M1\n",
            "12 Mmus_C57-6J_SPL_HLU_IRC_Rep1_M8\n",
            "13 Mmus_C57-6J_SPL_HLU_IRC_Rep2_M10\n",
            "14 Mmus_C57-6J_SPL_HLU_IRC_Rep3_M16\n",
            "15 Mmus_C57-6J_SPL_HLU_IR_Rep1_M3\n",
            "16 Mmus_C57-6J_SPL_HLU_IR_Rep2_M9\n",
            "17 Mmus_C57-6J_SPL_HLU_IR_Rep3_M11\n",
            "18 Mmus_C57-6J_SPL_HLU_IR_Rep4_M15\n",
            "19 Mmus_C57-6J_SPL_HLU_IR_Rep5_M17\n",
            "20 Mmus_C57-6J_SPL_HLU_IR_Rep6_M19\n"
          ],
          "name": "stdout"
        }
      ]
    },
    {
      "cell_type": "code",
      "metadata": {
        "colab": {
          "base_uri": "https://localhost:8080/"
        },
        "id": "2sDECgcrxiI4",
        "outputId": "529561b5-742e-4063-ad0a-984d45008910"
      },
      "source": [
        "control_samples = normcounts.columns[0:6]\n",
        "print(control_samples)\n",
        "print(control_samples.size)\n",
        "\n",
        "ldr_samples = normcounts.columns[6:12]\n",
        "print(ldr_samples)\n",
        "print(ldr_samples.size)\n",
        "\n",
        "hlu_samples = normcounts.columns[12:15]\n",
        "print(hlu_samples)\n",
        "print(hlu_samples.size)\n",
        "\n",
        "simspace_samples = normcounts.columns[15:21]\n",
        "print(simspace_samples)\n",
        "print(simspace_samples.size)\n"
      ],
      "execution_count": 6,
      "outputs": [
        {
          "output_type": "stream",
          "text": [
            "Index(['Mmus_C57-6J_SPL_HLLC_IRC_Rep1_M18',\n",
            "       'Mmus_C57-6J_SPL_HLLC_IRC_Rep2_M21',\n",
            "       'Mmus_C57-6J_SPL_HLLC_IRC_Rep3_M22',\n",
            "       'Mmus_C57-6J_SPL_HLLC_IRC_Rep4_M25', 'Mmus_C57-6J_SPL_HLLC_IRC_Rep5_M2',\n",
            "       'Mmus_C57-6J_SPL_HLLC_IRC_Rep6_M12'],\n",
            "      dtype='object')\n",
            "6\n",
            "Index(['Mmus_C57-6J_SPL_HLLC_IR_Rep1_M7', 'Mmus_C57-6J_SPL_HLLC_IR_Rep2_M13',\n",
            "       'Mmus_C57-6J_SPL_HLLC_IR_Rep3_M14', 'Mmus_C57-6J_SPL_HLLC_IR_Rep4_M23',\n",
            "       'Mmus_C57-6J_SPL_HLLC_IR_Rep5_M24', 'Mmus_C57-6J_SPL_HLLC_IR_Rep6_M1'],\n",
            "      dtype='object')\n",
            "6\n",
            "Index(['Mmus_C57-6J_SPL_HLU_IRC_Rep1_M8', 'Mmus_C57-6J_SPL_HLU_IRC_Rep2_M10',\n",
            "       'Mmus_C57-6J_SPL_HLU_IRC_Rep3_M16'],\n",
            "      dtype='object')\n",
            "3\n",
            "Index(['Mmus_C57-6J_SPL_HLU_IR_Rep1_M3', 'Mmus_C57-6J_SPL_HLU_IR_Rep2_M9',\n",
            "       'Mmus_C57-6J_SPL_HLU_IR_Rep3_M11', 'Mmus_C57-6J_SPL_HLU_IR_Rep4_M15',\n",
            "       'Mmus_C57-6J_SPL_HLU_IR_Rep5_M17', 'Mmus_C57-6J_SPL_HLU_IR_Rep6_M19'],\n",
            "      dtype='object')\n",
            "6\n"
          ],
          "name": "stdout"
        }
      ]
    },
    {
      "cell_type": "code",
      "metadata": {
        "colab": {
          "base_uri": "https://localhost:8080/",
          "height": 510
        },
        "id": "IBREznvRx19o",
        "outputId": "9548b767-f585-4a48-bc90-8b61e79a56f0"
      },
      "source": [
        "control_mean = normcounts[control_samples].mean(axis=1)\n",
        "print(control_mean.head())\n",
        "control_stdev = normcounts[control_samples].std(axis=1)\n",
        "print(control_stdev.head())\n",
        "control_cv = (control_stdev / control_mean)\n",
        "print(control_cv.head())\n",
        "control_df = pd.concat([control_mean, control_cv], axis=1)\n",
        "control_df.columns = ['Mean', 'CV']\n",
        "control_df['Group'] = 'Control'\n",
        "control_df.head()"
      ],
      "execution_count": 7,
      "outputs": [
        {
          "output_type": "stream",
          "text": [
            "ENSMUSG00000000001    20.153765\n",
            "ENSMUSG00000000028     3.056329\n",
            "ENSMUSG00000000049     2.644355\n",
            "ENSMUSG00000000056    25.038579\n",
            "ENSMUSG00000000058     2.233907\n",
            "dtype: float64\n",
            "ENSMUSG00000000001    12.085367\n",
            "ENSMUSG00000000028     1.561546\n",
            "ENSMUSG00000000049     2.388466\n",
            "ENSMUSG00000000056     8.471564\n",
            "ENSMUSG00000000058     1.203100\n",
            "dtype: float64\n",
            "ENSMUSG00000000001    0.599658\n",
            "ENSMUSG00000000028    0.510922\n",
            "ENSMUSG00000000049    0.903232\n",
            "ENSMUSG00000000056    0.338340\n",
            "ENSMUSG00000000058    0.538563\n",
            "dtype: float64\n"
          ],
          "name": "stdout"
        },
        {
          "output_type": "execute_result",
          "data": {
            "text/html": [
              "<div>\n",
              "<style scoped>\n",
              "    .dataframe tbody tr th:only-of-type {\n",
              "        vertical-align: middle;\n",
              "    }\n",
              "\n",
              "    .dataframe tbody tr th {\n",
              "        vertical-align: top;\n",
              "    }\n",
              "\n",
              "    .dataframe thead th {\n",
              "        text-align: right;\n",
              "    }\n",
              "</style>\n",
              "<table border=\"1\" class=\"dataframe\">\n",
              "  <thead>\n",
              "    <tr style=\"text-align: right;\">\n",
              "      <th></th>\n",
              "      <th>Mean</th>\n",
              "      <th>CV</th>\n",
              "      <th>Group</th>\n",
              "    </tr>\n",
              "  </thead>\n",
              "  <tbody>\n",
              "    <tr>\n",
              "      <th>ENSMUSG00000000001</th>\n",
              "      <td>20.153765</td>\n",
              "      <td>0.599658</td>\n",
              "      <td>Control</td>\n",
              "    </tr>\n",
              "    <tr>\n",
              "      <th>ENSMUSG00000000028</th>\n",
              "      <td>3.056329</td>\n",
              "      <td>0.510922</td>\n",
              "      <td>Control</td>\n",
              "    </tr>\n",
              "    <tr>\n",
              "      <th>ENSMUSG00000000049</th>\n",
              "      <td>2.644355</td>\n",
              "      <td>0.903232</td>\n",
              "      <td>Control</td>\n",
              "    </tr>\n",
              "    <tr>\n",
              "      <th>ENSMUSG00000000056</th>\n",
              "      <td>25.038579</td>\n",
              "      <td>0.338340</td>\n",
              "      <td>Control</td>\n",
              "    </tr>\n",
              "    <tr>\n",
              "      <th>ENSMUSG00000000058</th>\n",
              "      <td>2.233907</td>\n",
              "      <td>0.538563</td>\n",
              "      <td>Control</td>\n",
              "    </tr>\n",
              "  </tbody>\n",
              "</table>\n",
              "</div>"
            ],
            "text/plain": [
              "                         Mean        CV    Group\n",
              "ENSMUSG00000000001  20.153765  0.599658  Control\n",
              "ENSMUSG00000000028   3.056329  0.510922  Control\n",
              "ENSMUSG00000000049   2.644355  0.903232  Control\n",
              "ENSMUSG00000000056  25.038579  0.338340  Control\n",
              "ENSMUSG00000000058   2.233907  0.538563  Control"
            ]
          },
          "metadata": {
            "tags": []
          },
          "execution_count": 7
        }
      ]
    },
    {
      "cell_type": "markdown",
      "metadata": {
        "id": "NSi68p4n_uJi"
      },
      "source": [
        "# CV calculations"
      ]
    },
    {
      "cell_type": "code",
      "metadata": {
        "id": "z7oZT3Kr33wv"
      },
      "source": [
        "ldr_mean = normcounts[ldr_samples].mean(axis=1)\n",
        "ldr_stdev = normcounts[ldr_samples].std(axis=1)\n",
        "ldr_cv = ldr_stdev / ldr_mean\n",
        "\n",
        "ldr_df = pd.concat([ldr_mean, ldr_cv], axis=1)\n",
        "ldr_df.columns = ['Mean', 'CV']\n",
        "ldr_df['Group'] = 'LDR'\n",
        "\n",
        "hlu_mean = normcounts[hlu_samples].mean(axis=1)\n",
        "hlu_stdev = normcounts[hlu_samples].std(axis=1)\n",
        "hlu_cv = hlu_stdev / hlu_mean\n",
        "\n",
        "hlu_df = pd.concat([hlu_mean, hlu_cv], axis=1)\n",
        "hlu_df.columns = ['Mean', 'CV']\n",
        "hlu_df['Group'] = 'HLU'\n",
        "\n",
        "simspace_mean = normcounts[simspace_samples].mean(axis=1)\n",
        "simspace_stdev = normcounts[simspace_samples].std(axis=1)\n",
        "simspace_cv = simspace_stdev / simspace_mean\n",
        "\n",
        "simspace_df = pd.concat([simspace_mean, simspace_cv], axis=1)\n",
        "simspace_df.columns = ['Mean', 'CV']\n",
        "simspace_df['Group'] = 'simSpace'\n"
      ],
      "execution_count": 8,
      "outputs": []
    },
    {
      "cell_type": "markdown",
      "metadata": {
        "id": "p2gAzczb_tHW"
      },
      "source": [
        ""
      ]
    },
    {
      "cell_type": "code",
      "metadata": {
        "colab": {
          "base_uri": "https://localhost:8080/",
          "height": 204
        },
        "id": "I6YBN-9E34CE",
        "outputId": "4b3fcca8-54b0-4303-d450-55a44256ddb2"
      },
      "source": [
        "all = pd.concat([control_df, ldr_df, hlu_df, simspace_df])\n",
        "all['Mean'] = all['Mean']\n",
        "all['Log2_Mean'] = np.log2(all['Mean'])\n",
        "all.head()"
      ],
      "execution_count": 9,
      "outputs": [
        {
          "output_type": "execute_result",
          "data": {
            "text/html": [
              "<div>\n",
              "<style scoped>\n",
              "    .dataframe tbody tr th:only-of-type {\n",
              "        vertical-align: middle;\n",
              "    }\n",
              "\n",
              "    .dataframe tbody tr th {\n",
              "        vertical-align: top;\n",
              "    }\n",
              "\n",
              "    .dataframe thead th {\n",
              "        text-align: right;\n",
              "    }\n",
              "</style>\n",
              "<table border=\"1\" class=\"dataframe\">\n",
              "  <thead>\n",
              "    <tr style=\"text-align: right;\">\n",
              "      <th></th>\n",
              "      <th>Mean</th>\n",
              "      <th>CV</th>\n",
              "      <th>Group</th>\n",
              "      <th>Log2_Mean</th>\n",
              "    </tr>\n",
              "  </thead>\n",
              "  <tbody>\n",
              "    <tr>\n",
              "      <th>ENSMUSG00000000001</th>\n",
              "      <td>20.153765</td>\n",
              "      <td>0.599658</td>\n",
              "      <td>Control</td>\n",
              "      <td>4.332977</td>\n",
              "    </tr>\n",
              "    <tr>\n",
              "      <th>ENSMUSG00000000028</th>\n",
              "      <td>3.056329</td>\n",
              "      <td>0.510922</td>\n",
              "      <td>Control</td>\n",
              "      <td>1.611800</td>\n",
              "    </tr>\n",
              "    <tr>\n",
              "      <th>ENSMUSG00000000049</th>\n",
              "      <td>2.644355</td>\n",
              "      <td>0.903232</td>\n",
              "      <td>Control</td>\n",
              "      <td>1.402916</td>\n",
              "    </tr>\n",
              "    <tr>\n",
              "      <th>ENSMUSG00000000056</th>\n",
              "      <td>25.038579</td>\n",
              "      <td>0.338340</td>\n",
              "      <td>Control</td>\n",
              "      <td>4.646081</td>\n",
              "    </tr>\n",
              "    <tr>\n",
              "      <th>ENSMUSG00000000058</th>\n",
              "      <td>2.233907</td>\n",
              "      <td>0.538563</td>\n",
              "      <td>Control</td>\n",
              "      <td>1.159569</td>\n",
              "    </tr>\n",
              "  </tbody>\n",
              "</table>\n",
              "</div>"
            ],
            "text/plain": [
              "                         Mean        CV    Group  Log2_Mean\n",
              "ENSMUSG00000000001  20.153765  0.599658  Control   4.332977\n",
              "ENSMUSG00000000028   3.056329  0.510922  Control   1.611800\n",
              "ENSMUSG00000000049   2.644355  0.903232  Control   1.402916\n",
              "ENSMUSG00000000056  25.038579  0.338340  Control   4.646081\n",
              "ENSMUSG00000000058   2.233907  0.538563  Control   1.159569"
            ]
          },
          "metadata": {
            "tags": []
          },
          "execution_count": 9
        }
      ]
    },
    {
      "cell_type": "code",
      "metadata": {
        "id": "1m88sv2zTGCW"
      },
      "source": [
        "all.to_csv('GLDS-211 variance reshaped.csv')"
      ],
      "execution_count": 10,
      "outputs": []
    },
    {
      "cell_type": "markdown",
      "metadata": {
        "id": "Lae6S0Ox9M0a"
      },
      "source": [
        "# One-way ANOVA with posthoc"
      ]
    },
    {
      "cell_type": "code",
      "metadata": {
        "id": "XYX9iMwV8WSp",
        "colab": {
          "base_uri": "https://localhost:8080/"
        },
        "outputId": "0f3f6506-7823-4dd4-e269-915de485db5d"
      },
      "source": [
        "!pip install scikit-posthocs\n",
        "# anova with posthoc\n",
        "# https://pypi.org/project/scikit-posthocs/\n",
        "\n",
        "import statsmodels.api as sa\n",
        "import statsmodels.formula.api as sfa\n",
        "import scikit_posthocs as sp"
      ],
      "execution_count": 11,
      "outputs": [
        {
          "output_type": "stream",
          "text": [
            "Requirement already satisfied: scikit-posthocs in /usr/local/lib/python3.7/dist-packages (0.6.7)\n",
            "Requirement already satisfied: seaborn in /usr/local/lib/python3.7/dist-packages (from scikit-posthocs) (0.11.1)\n",
            "Requirement already satisfied: pandas>=0.20.0 in /usr/local/lib/python3.7/dist-packages (from scikit-posthocs) (1.1.5)\n",
            "Requirement already satisfied: scipy in /usr/local/lib/python3.7/dist-packages (from scikit-posthocs) (1.4.1)\n",
            "Requirement already satisfied: matplotlib in /usr/local/lib/python3.7/dist-packages (from scikit-posthocs) (3.2.2)\n",
            "Requirement already satisfied: statsmodels in /usr/local/lib/python3.7/dist-packages (from scikit-posthocs) (0.10.2)\n",
            "Requirement already satisfied: numpy in /usr/local/lib/python3.7/dist-packages (from scikit-posthocs) (1.19.5)\n",
            "Requirement already satisfied: python-dateutil>=2.7.3 in /usr/local/lib/python3.7/dist-packages (from pandas>=0.20.0->scikit-posthocs) (2.8.1)\n",
            "Requirement already satisfied: pytz>=2017.2 in /usr/local/lib/python3.7/dist-packages (from pandas>=0.20.0->scikit-posthocs) (2018.9)\n",
            "Requirement already satisfied: pyparsing!=2.0.4,!=2.1.2,!=2.1.6,>=2.0.1 in /usr/local/lib/python3.7/dist-packages (from matplotlib->scikit-posthocs) (2.4.7)\n",
            "Requirement already satisfied: cycler>=0.10 in /usr/local/lib/python3.7/dist-packages (from matplotlib->scikit-posthocs) (0.10.0)\n",
            "Requirement already satisfied: kiwisolver>=1.0.1 in /usr/local/lib/python3.7/dist-packages (from matplotlib->scikit-posthocs) (1.3.1)\n",
            "Requirement already satisfied: patsy>=0.4.0 in /usr/local/lib/python3.7/dist-packages (from statsmodels->scikit-posthocs) (0.5.1)\n",
            "Requirement already satisfied: six>=1.5 in /usr/local/lib/python3.7/dist-packages (from python-dateutil>=2.7.3->pandas>=0.20.0->scikit-posthocs) (1.15.0)\n"
          ],
          "name": "stdout"
        },
        {
          "output_type": "stream",
          "text": [
            "/usr/local/lib/python3.7/dist-packages/statsmodels/tools/_testing.py:19: FutureWarning: pandas.util.testing is deprecated. Use the functions in the public API at pandas.testing instead.\n",
            "  import pandas.util.testing as tm\n"
          ],
          "name": "stderr"
        }
      ]
    },
    {
      "cell_type": "code",
      "metadata": {
        "colab": {
          "base_uri": "https://localhost:8080/"
        },
        "id": "xSzDuyZs-Hg2",
        "outputId": "ff6389f6-70f3-451c-e818-205b78368abf"
      },
      "source": [
        "df = all[(all['Log2_Mean'] < 2.0)]\n",
        "\n",
        "lm = sfa.ols('CV ~ C(Group)', data=df).fit()\n",
        "anova = sa.stats.anova_lm(lm)\n",
        "print(anova)\n",
        "\n",
        "posthoc = sp.posthoc_ttest(df, val_col='CV', group_col='Group', p_adjust='holm')\n",
        "print(posthoc)"
      ],
      "execution_count": 12,
      "outputs": [
        {
          "output_type": "stream",
          "text": [
            "               df       sum_sq    mean_sq           F         PR(>F)\n",
            "C(Group)      3.0    64.166843  21.388948  289.538733  2.699441e-185\n",
            "Residual  29952.0  2212.628866   0.073872         NaN            NaN\n",
            "               Control           LDR            HLU       simSpace\n",
            "Control   1.000000e+00  5.395333e-10   9.062172e-19   1.414064e-95\n",
            "LDR       5.395333e-10  1.000000e+00   3.739640e-41   2.383615e-51\n",
            "HLU       9.062172e-19  3.739640e-41   1.000000e+00  1.314119e-134\n",
            "simSpace  1.414064e-95  2.383615e-51  1.314119e-134   1.000000e+00\n"
          ],
          "name": "stdout"
        }
      ]
    },
    {
      "cell_type": "code",
      "metadata": {
        "colab": {
          "base_uri": "https://localhost:8080/"
        },
        "id": "6z2bBf8S-dtw",
        "outputId": "276777e9-08cf-4f93-a4ca-dbef02d71708"
      },
      "source": [
        "df = all[(all['Log2_Mean'] >= 2.0) & (all['Log2_Mean'] <4.0)]\n",
        "\n",
        "lm = sfa.ols('CV ~ C(Group)', data=df).fit()\n",
        "anova = sa.stats.anova_lm(lm)\n",
        "print(anova)\n",
        "\n",
        "posthoc = sp.posthoc_ttest(df, val_col='CV', group_col='Group', p_adjust='holm')\n",
        "print(posthoc)"
      ],
      "execution_count": 13,
      "outputs": [
        {
          "output_type": "stream",
          "text": [
            "               df       sum_sq    mean_sq           F         PR(>F)\n",
            "C(Group)      3.0    80.536023  26.845341  400.148997  4.993020e-255\n",
            "Residual  30885.0  2072.024074   0.067088         NaN            NaN\n",
            "                Control            LDR            HLU       simSpace\n",
            "Control    1.000000e+00   6.142149e-15  3.107625e-141  2.498672e-188\n",
            "LDR        6.142149e-15   1.000000e+00   7.049210e-80  5.598692e-107\n",
            "HLU       3.107625e-141   7.049210e-80   1.000000e+00   6.591714e-01\n",
            "simSpace  2.498672e-188  5.598692e-107   6.591714e-01   1.000000e+00\n"
          ],
          "name": "stdout"
        }
      ]
    },
    {
      "cell_type": "code",
      "metadata": {
        "colab": {
          "base_uri": "https://localhost:8080/"
        },
        "id": "umC4mKtO-w4J",
        "outputId": "cf6c6dc5-0310-432e-fa43-a0c00652db57"
      },
      "source": [
        "df = all[(all['Log2_Mean'] >= 4.0) & (all['Log2_Mean'] <6.0)]\n",
        "\n",
        "lm = sfa.ols('CV ~ C(Group)', data=df).fit()\n",
        "anova = sa.stats.anova_lm(lm)\n",
        "print(anova)\n",
        "\n",
        "posthoc = sp.posthoc_ttest(df, val_col='CV', group_col='Group', p_adjust='holm')\n",
        "print(posthoc)"
      ],
      "execution_count": 14,
      "outputs": [
        {
          "output_type": "stream",
          "text": [
            "               df      sum_sq   mean_sq           F        PR(>F)\n",
            "C(Group)      3.0   18.466107  6.155369  130.937369  5.305244e-84\n",
            "Residual  20000.0  940.200496  0.047010         NaN           NaN\n",
            "               Control           LDR           HLU      simSpace\n",
            "Control   1.000000e+00  1.345735e-01  1.131847e-12  2.097615e-76\n",
            "LDR       1.345735e-01  1.000000e+00  6.512565e-09  6.589574e-63\n",
            "HLU       1.131847e-12  6.512565e-09  1.000000e+00  3.039974e-16\n",
            "simSpace  2.097615e-76  6.589574e-63  3.039974e-16  1.000000e+00\n"
          ],
          "name": "stdout"
        }
      ]
    },
    {
      "cell_type": "code",
      "metadata": {
        "colab": {
          "base_uri": "https://localhost:8080/"
        },
        "id": "4YxEGWXL-0t4",
        "outputId": "e08dfd7d-58f7-4179-a8fc-5667eda0cdf3"
      },
      "source": [
        "df = all[(all['Log2_Mean'] >= 6.0) & (all['Log2_Mean'] <8.0)]\n",
        "\n",
        "lm = sfa.ols('CV ~ C(Group)', data=df).fit()\n",
        "anova = sa.stats.anova_lm(lm)\n",
        "print(anova)\n",
        "\n",
        "posthoc = sp.posthoc_ttest(df, val_col='CV', group_col='Group', p_adjust='holm')\n",
        "print(posthoc)"
      ],
      "execution_count": 15,
      "outputs": [
        {
          "output_type": "stream",
          "text": [
            "              df      sum_sq   mean_sq          F        PR(>F)\n",
            "C(Group)     3.0    5.008446  1.669482  51.033727  1.124135e-32\n",
            "Residual  8297.0  271.422332  0.032713        NaN           NaN\n",
            "               Control           LDR           HLU      simSpace\n",
            "Control   1.000000e+00  2.454477e-01  2.145441e-01  1.801245e-18\n",
            "LDR       2.454477e-01  1.000000e+00  6.216937e-01  1.493553e-22\n",
            "HLU       2.145441e-01  6.216937e-01  1.000000e+00  1.580582e-19\n",
            "simSpace  1.801245e-18  1.493553e-22  1.580582e-19  1.000000e+00\n"
          ],
          "name": "stdout"
        }
      ]
    },
    {
      "cell_type": "code",
      "metadata": {
        "colab": {
          "base_uri": "https://localhost:8080/"
        },
        "id": "UNOdxDqi-4fL",
        "outputId": "1a35fc86-3d21-4e93-fa75-f298989a8f67"
      },
      "source": [
        "df = all[(all['Log2_Mean'] >= 8.0)]\n",
        "\n",
        "lm = sfa.ols('CV ~ C(Group)', data=df).fit()\n",
        "anova = sa.stats.anova_lm(lm)\n",
        "print(anova)\n",
        "\n",
        "posthoc = sp.posthoc_ttest(df, val_col='CV', group_col='Group', p_adjust='holm')\n",
        "print(posthoc)"
      ],
      "execution_count": 16,
      "outputs": [
        {
          "output_type": "stream",
          "text": [
            "              df      sum_sq   mean_sq          F        PR(>F)\n",
            "C(Group)     3.0    2.587792  0.862597  20.402178  4.531642e-13\n",
            "Residual  2678.0  113.224972  0.042280        NaN           NaN\n",
            "           Control           LDR           HLU      simSpace\n",
            "Control   1.000000  5.612108e-01  1.165295e-01  3.909993e-06\n",
            "LDR       0.561211  1.000000e+00  5.612108e-01  1.596953e-07\n",
            "HLU       0.116530  5.612108e-01  1.000000e+00  1.618021e-09\n",
            "simSpace  0.000004  1.596953e-07  1.618021e-09  1.000000e+00\n"
          ],
          "name": "stdout"
        }
      ]
    }
  ]
}